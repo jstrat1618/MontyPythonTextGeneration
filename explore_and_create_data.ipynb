{
 "cells": [
  {
   "cell_type": "markdown",
   "metadata": {
    "collapsed": true
   },
   "source": [
    "# Text Recommendations"
   ]
  },
  {
   "cell_type": "code",
   "execution_count": 1,
   "metadata": {},
   "outputs": [
    {
     "name": "stdout",
     "output_type": "stream",
     "text": [
      "*** Introductory Examples for the NLTK Book ***\nLoading text1, ..., text9 and sent1, ..., sent9\nType the name of the text or sentence to view it.\nType: 'texts()' or 'sents()' to list the materials.\n"
     ]
    },
    {
     "name": "stdout",
     "output_type": "stream",
     "text": [
      "text1: Moby Dick by Herman Melville 1851\n"
     ]
    },
    {
     "name": "stdout",
     "output_type": "stream",
     "text": [
      "text2: Sense and Sensibility by Jane Austen 1811\ntext3: The Book of Genesis\n"
     ]
    },
    {
     "name": "stdout",
     "output_type": "stream",
     "text": [
      "text4: Inaugural Address Corpus\n"
     ]
    },
    {
     "name": "stdout",
     "output_type": "stream",
     "text": [
      "text5: Chat Corpus\ntext6: Monty Python and the Holy Grail\n"
     ]
    },
    {
     "name": "stdout",
     "output_type": "stream",
     "text": [
      "text7: Wall Street Journal\ntext8: Personals Corpus\ntext9: The Man Who Was Thursday by G . K . Chesterton 1908\n"
     ]
    }
   ],
   "source": [
    "import collections\n",
    "import json\n",
    "import numpy as np\n",
    "import pandas as pd\n",
    "import nltk\n",
    "import matplotlib.pyplot as plt\n",
    "from nltk.book import text6\n",
    "from scipy import stats"
   ]
  },
  {
   "cell_type": "markdown",
   "metadata": {},
   "source": [
    "The purpose of this notebook is two-fold create data for our text recommender application and generate sentences using the text data from Monty Python and the Holy Grail.\n",
    "\n",
    "We will base this on word pairs aka bigrams. For example, the sentence \"This is a sentence\" has the following word pairs (This, is), (is, a) and (a, sentence). So for every word mentioned in the Monty Python and the Holy Grail, I'ld like to get a list of the words that followed that word and how often those words were mentioned. To do this I am going to create a dictionary whose keywords are the words and the items are named tuples. The named tuples will have a list of words that occurced after the keyword and a list the number of times it was used.\n",
    "\n",
    "For example, suppose we were only analyzing the text that read as follows.\n",
    "\n",
    "\"Hello world. Hello world. Why hello there.\" \n",
    "\n",
    "The word \"hello\" would have two lists ['world', 'there'] and [2,1] because the word \"world\" succeeds \"hello\" twice in the text while \"there\" succeeds \"hello\" once."
   ]
  },
  {
   "cell_type": "code",
   "execution_count": 2,
   "metadata": {},
   "outputs": [],
   "source": [
    "Word = collections.namedtuple(\"Word\", ['after_words','counts'])\n",
    "WordProb = collections.namedtuple(\"Word\", ['after_words','probs'])"
   ]
  },
  {
   "cell_type": "markdown",
   "metadata": {},
   "source": [
    "\n"
   ]
  },
  {
   "cell_type": "markdown",
   "metadata": {},
   "source": [
    "We need to write some functions to clean the text and omit certain text. The text has already been tokenized. However, the text has been split by punctuation.  So words like \"it's\" have been split into (it, ') and (',s). So we will join all the tokens and then clean up the text some more.",
    "\n",
    ""
   ]
  },
  {
   "cell_type": "code",
   "execution_count": 39,
   "metadata": {},
   "outputs": [
    {
     "data": {
      "text/plain": [
       "'SCENE 1 : [ wind ] [ clop clop clop ] KING ARTHUR : Whoa there ! [ clop clop clop ] SOLDIER # 1 : Ha'"
      ]
     },
     "execution_count": 39,
     "metadata": {},
     "output_type": "execute_result"
    }
   ],
   "source": [
    "text = ' '.join(text6.tokens)\n",
    "#This should take care of the apostrophes\n",
    "text = text.replace(\" ' \", \"'\")\n",
    "text[:100]"
   ]
  },
  {
   "cell_type": "code",
   "execution_count": 42,
   "metadata": {},
   "outputs": [
    {
     "data": {
      "text/plain": [
       "True"
      ]
     },
     "execution_count": 42,
     "metadata": {},
     "output_type": "execute_result"
    }
   ],
   "source": [
    "\"it's\" in text #Test this out by commengint out the replace method in the block above."
   ]
  },
  {
   "cell_type": "markdown",
   "metadata": {},
   "source": [
    "Now, I am going to write a function that returns True if the text is a text that I want to omit. As of right now I am only elminating some punctuation marks."
   ]
  },
  {
   "cell_type": "code",
   "execution_count": 43,
   "metadata": {},
   "outputs": [],
   "source": [
    "#Returns True for text we want to omit and False otherwise\n",
    "def omit_text(text):\n",
    "    \n",
    "    #Eliminate these marks for now as I don't think they will be meaningful\n",
    "    is_a_mark = text in [\"_\", \"$\", \"#\", \";\", \",\", \"]\", \n",
    "                         \"[\", \"{\", \"}\", \"\", \" \", \":\", \n",
    "                         \"!\", \"'\", \".\", '--', '?', '...']\n",
    "    \n",
    "    #You can add more conditions. In previous commits I eliminated numbers, but I decided to loosen up a bit.\n",
    "    \n",
    "    answer = True if is_a_mark else False\n",
    "    \n",
    "    return answer"
   ]
  },
  {
   "cell_type": "code",
   "execution_count": 44,
   "metadata": {},
   "outputs": [
    {
     "data": {
      "text/plain": [
       "True"
      ]
     },
     "execution_count": 44,
     "metadata": {},
     "output_type": "execute_result"
    }
   ],
   "source": [
    "omit_text(\" \")"
   ]
  },
  {
   "cell_type": "code",
   "execution_count": 45,
   "metadata": {},
   "outputs": [
    {
     "data": {
      "text/plain": [
       "['SCENE', '1', 'wind', 'clop', 'clop']"
      ]
     },
     "execution_count": 45,
     "metadata": {},
     "output_type": "execute_result"
    }
   ],
   "source": [
    "all_words = text.split(\" \")\n",
    "words = [w for w in all_words if not omit_text(w)]\n",
    "\n",
    "words[:5]"
   ]
  },
  {
   "cell_type": "code",
   "execution_count": 46,
   "metadata": {},
   "outputs": [
    {
     "data": {
      "text/plain": [
       "the       298\nARTHUR    225\nI         203\nyou       188\na         187\nof        158\nto        142\nand       133\nOh        110\nis        100\ndtype: int64"
      ]
     },
     "execution_count": 46,
     "metadata": {},
     "output_type": "execute_result"
    }
   ],
   "source": [
    "word_counts =pd.Series(words).value_counts()\n",
    "\n",
    "word_counts[:10]"
   ]
  },
  {
   "cell_type": "code",
   "execution_count": 47,
   "metadata": {},
   "outputs": [
    {
     "data": {
      "text/plain": [
       "[('SCENE', '1'),\n ('1', 'wind'),\n ('wind', 'clop'),\n ('clop', 'clop'),\n ('clop', 'clop')]"
      ]
     },
     "execution_count": 47,
     "metadata": {},
     "output_type": "execute_result"
    }
   ],
   "source": [
    "bigrams = [b for b in zip(words[:-1], words[1:])]\n",
    "\n",
    "bigrams[:5]"
   ]
  },
  {
   "cell_type": "code",
   "execution_count": 49,
   "metadata": {},
   "outputs": [],
   "source": [
    "word_dict = {}\n",
    "\n",
    "for word in list(set(words)):\n",
    "    all_words_after = [w[1] for w in bigrams if w[0] == word]\n",
    "    word_counts = pd.Series(all_words_after).value_counts()\n",
    "    \n",
    "    word_dict[word] = Word(after_words=word_counts.index.tolist(), counts=word_counts.tolist())"
   ]
  },
  {
   "cell_type": "code",
   "execution_count": 52,
   "metadata": {},
   "outputs": [
    {
     "data": {
      "text/plain": [
       "Word(after_words=['Arthur', 'of', \"Arthur's\", 'you', 'who'], counts=[15, 9, 1, 1, 1])"
      ]
     },
     "execution_count": 52,
     "metadata": {},
     "output_type": "execute_result"
    }
   ],
   "source": [
    "word_dict[\"King\"]"
   ]
  },
  {
   "cell_type": "markdown",
   "metadata": {},
   "source": [
    "Now, we need to save the data."
   ]
  },
  {
   "cell_type": "code",
   "execution_count": 53,
   "metadata": {},
   "outputs": [],
   "source": [
    "with open(\"data/monty_python_holy_grail_word_data.json\", \"w\") as file:\n",
    "    json.dump(word_dict, file)"
   ]
  },
  {
   "cell_type": "markdown",
   "metadata": {},
   "source": [
    "### Sentences\n",
    "Next I'd like to know how long each sentence is usually in words. To do this I will write a simple function to count number of words in a sentence."
   ]
  },
  {
   "cell_type": "code",
   "execution_count": 54,
   "metadata": {},
   "outputs": [],
   "source": [
    "def num_words(text_dum):\n",
    "    \n",
    "    word_list = text_dum.split(\" \")\n",
    "    \n",
    "    return len(word_list)"
   ]
  },
  {
   "cell_type": "code",
   "execution_count": 55,
   "metadata": {},
   "outputs": [
    {
     "name": "stdout",
     "output_type": "stream",
     "text": [
      "[17 11  4 19 15]\n"
     ]
    },
    {
     "data": {
      "text/plain": [
       "DescribeResult(nobs=1882, minmax=(1, 116), mean=8.5712008501594052, variance=56.189770912322501, skewness=3.7646419885765847, kurtosis=30.017681161161036)"
      ]
     },
     "execution_count": 55,
     "metadata": {},
     "output_type": "execute_result"
    }
   ],
   "source": [
    "sentences = nltk.sent_tokenize(text)\n",
    "\n",
    "sent_length = np.array([num_words(sent) for sent in sentences])\n",
    "\n",
    "print(sent_length[:5])\n",
    "\n",
    "stats.describe(sent_length)"
   ]
  },
  {
   "cell_type": "code",
   "execution_count": 57,
   "metadata": {
    "collapsed": true
   },
   "outputs": [
    {
     "data": {
      "image/png": "[encoded data removed]",
      "text/plain": [
       "<matplotlib.figure.Figure at 0x222c3365fd0>"
      ]
     },
     "metadata": {},
     "output_type": "display_data"
    }
   ],
   "source": [
    "plt.hist(sent_length, bins='auto',)\n",
    "plt.title(\"Histogram of Sentence Length\")\n",
    "plt.show()"
   ]
  },
  {
   "cell_type": "markdown",
   "metadata": {},
   "source": [
    "So the sentence length varies quite widely. The mean is about 9 and the variance is about 60. Next I would like to know which words commonly start a sentence."
   ]
  },
  {
   "cell_type": "code",
   "execution_count": 59,
   "metadata": {},
   "outputs": [
    {
     "data": {
      "text/plain": [
       "ARTHUR       0.103408\nLAUNCELOT    0.035817\nGALAHAD      0.035817\nBEDEVERE     0.026574\nI            0.025997\nVILLAGER     0.025419\nFATHER       0.024841\nROBIN        0.019064\nGUARD        0.016753\nKNIGHTS      0.016753\ndtype: float64"
      ]
     },
     "execution_count": 59,
     "metadata": {},
     "output_type": "execute_result"
    }
   ],
   "source": [
    "start_words = [x.split(\" \")[0] for x in sentences if not omit_text(x.split(\" \")[0])]\n",
    "\n",
    "starts = pd.Series(start_words).value_counts()/sum(pd.Series(start_words).value_counts())\n",
    "\n",
    "starts[:10]"
   ]
  },
  {
   "cell_type": "markdown",
   "metadata": {},
   "source": [
    "Next I would like to create a function that randomly picks a start word according to these probabilities."
   ]
  },
  {
   "cell_type": "code",
   "execution_count": 60,
   "metadata": {},
   "outputs": [],
   "source": [
    "prob_starts = starts.tolist()\n",
    "\n",
    "sent_starts = starts.index.tolist()\n",
    "\n",
    "def start_sentence(sent_starters=sent_starts, prob=prob_starts):\n",
    "    return np.random.choice(sent_starters, p=prob)"
   ]
  },
  {
   "cell_type": "code",
   "execution_count": 62,
   "metadata": {},
   "outputs": [
    {
     "data": {
      "text/plain": [
       "'FATHER'"
      ]
     },
     "execution_count": 62,
     "metadata": {},
     "output_type": "execute_result"
    }
   ],
   "source": [
    "start_sentence(sent_starts, prob_starts)"
   ]
  },
  {
   "cell_type": "markdown",
   "metadata": {},
   "source": [
    "Next, I would like to write  a function that picks the subsequent word at random according to the probabilities derieved from the word counts in word_dict."
   ]
  },
  {
   "cell_type": "code",
   "execution_count": 63,
   "metadata": {},
   "outputs": [],
   "source": [
    "def scale1(x):\n",
    "    x = np.array(x)\n",
    "    \n",
    "    return list(x/x.sum())"
   ]
  },
  {
   "cell_type": "code",
   "execution_count": 64,
   "metadata": {},
   "outputs": [],
   "source": [
    "prob_dict = {}\n",
    "\n",
    "for key,val in word_dict.items():\n",
    "    after_words, counts = word_dict[key]\n",
    "    probs = scale1(counts)\n",
    "    \n",
    "    prob_dict[key] = WordProb(after_words=after_words, probs=probs)"
   ]
  },
  {
   "cell_type": "markdown",
   "metadata": {},
   "source": [
    "Next let's write a function that generates the next word."
   ]
  },
  {
   "cell_type": "code",
   "execution_count": 65,
   "metadata": {},
   "outputs": [],
   "source": [
    "def next_word(last_word, word_data):\n",
    "    word = word_data[last_word]\n",
    "    \n",
    "    return np.random.choice(word.after_words, p=word.probs)"
   ]
  },
  {
   "cell_type": "code",
   "execution_count": 67,
   "metadata": {},
   "outputs": [
    {
     "data": {
      "text/plain": [
       "'How'"
      ]
     },
     "execution_count": 67,
     "metadata": {},
     "output_type": "execute_result"
    }
   ],
   "source": [
    "next_word('ARTHUR', prob_dict)"
   ]
  },
  {
   "cell_type": "code",
   "execution_count": 68,
   "metadata": {},
   "outputs": [],
   "source": [
    "def generate_sentence(num_words):\n",
    "    \n",
    "    last_word = start_sentence()\n",
    "    \n",
    "    sent = last_word\n",
    "    \n",
    "    sent_length = len(sent.split(' '))\n",
    "    \n",
    "    while sent_length <= num_words:\n",
    "        last_word = next_word(last_word, prob_dict)\n",
    "        sent += \" \" + last_word\n",
    "        sent_length = len(sent.split(' '))\n",
    "        \n",
    "    sent = sent + \".\"\n",
    "    \n",
    "    return sent"
   ]
  },
  {
   "cell_type": "code",
   "execution_count": 69,
   "metadata": {},
   "outputs": [
    {
     "data": {
      "text/plain": [
       "\"Supreme executive power just'cause some lovely acting in.\""
      ]
     },
     "execution_count": 69,
     "metadata": {},
     "output_type": "execute_result"
    }
   ],
   "source": [
    "generate_sentence(7)"
   ]
  },
  {
   "cell_type": "markdown",
   "metadata": {},
   "source": [
    "For simplicity, I will generate the length of sentence randomly from a poisson distribution despite the fact that given our histrogram and summary statistics are not consistent with the poisson distribution because the mean and variance are far apart."
   ]
  },
  {
   "cell_type": "code",
   "execution_count": 70,
   "metadata": {},
   "outputs": [
    {
     "data": {
      "text/plain": [
       "['ARTHUR You tit I shall snuff it GUARD Of course not afraid of.',\n 'ARTHUR If you have a little bit daft to.',\n 'GUARD 2 Burn BEDEVERE My God dramatic chord ARTHUR.',\n \"OLD MAN Seek you Oh yes We'll stay.\",\n 'ARTHUR Brave brave and I.']"
      ]
     },
     "execution_count": 70,
     "metadata": {},
     "output_type": "execute_result"
    }
   ],
   "source": [
    "nums = np.random.poisson(lam=9, size=100)\n",
    "\n",
    "sim_text = [generate_sentence(num) for num in nums]\n",
    "\n",
    "sim_text[:5]"
   ]
  },
  {
   "cell_type": "code",
   "execution_count": 72,
   "metadata": {},
   "outputs": [],
   "source": [
    "pd.DataFrame({'sentence':sim_text}).to_csv(\"simulated_sentences.csv\", index=False)"
   ]
  }
 ],
 "metadata": {
  "kernelspec": {
   "display_name": "Python 2",
   "language": "python",
   "name": "python2"
  },
  "language_info": {
   "codemirror_mode": {
    "name": "ipython",
    "version": 2
   },
   "file_extension": ".py",
   "mimetype": "text/x-python",
   "name": "python",
   "nbconvert_exporter": "python",
   "pygments_lexer": "ipython2",
   "version": "2.7.6"
  }
 },
 "nbformat": 4,
 "nbformat_minor": 0
}
