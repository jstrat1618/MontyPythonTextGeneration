{
 "cells": [
  {
   "cell_type": "markdown",
   "metadata": {
    "collapsed": true
   },
   "source": [
    "# Text Recommendations"
   ]
  },
  {
   "cell_type": "code",
   "execution_count": 9,
   "metadata": {},
   "outputs": [],
   "source": [
    "import collections\n",
    "import json\n",
    "import re\n",
    "import pandas as pd\n",
    "import nltk\n",
    "from nltk.book import text6"
   ]
  },
  {
   "cell_type": "markdown",
   "metadata": {},
   "source": [
    "To provide recommendations of a next word given the previous word, I'ld like to get a list of all the words that typically follow another word and how often those words were mentioned. To do this I am going to create a dictionary whose keywords are the words and the items are named tuples. The named tuples is the list of words that occurced after the keyword and the number of times it was used. "
   ]
  },
  {
   "cell_type": "code",
   "execution_count": null,
   "metadata": {},
   "outputs": [],
   "source": [
    "Word = collections.namedtuple(\"Word\", ['after_words','counts'])"
   ]
  },
  {
   "cell_type": "markdown",
   "metadata": {},
   "source": [
    "In the spirit of python we will use Monty Python and the Holy Grail for this. Let's get a list of bigrams."
   ]
  },
  {
   "cell_type": "code",
   "execution_count": 2,
   "metadata": {},
   "outputs": [
    {
     "name": "stdout",
     "output_type": "stream",
     "text": [
      "[('SCENE', '1'), ('1', ':'), (':', '['), ('[', 'wind'), ('wind', ']'), (']', '['), ('[', 'clop'), ('clop', 'clop'), ('clop', 'clop'), ('clop', ']')]\n"
     ]
    }
   ],
   "source": [
    "dirty_bigrams = list(nltk.bigrams(text6))\n",
    "\n",
    "print(dirty_bigrams[:10])"
   ]
  },
  {
   "cell_type": "markdown",
   "metadata": {},
   "source": [
    "We need to write some functions to clean the text and omit certain text."
   ]
  },
  {
   "cell_type": "code",
   "execution_count": 3,
   "metadata": {},
   "outputs": [],
   "source": [
    "#Returns True for text we want to omit and False otherwise\n",
    "def omit_text(text):\n",
    "    \n",
    "    is_a_mark = text in [\",\", \"!\", \"_\", \"$\", \"#\", \":\", \";\", \",\", \"'\", '\"', \" \",\n",
    "                         \"]\", \"[\", \"{\", \"}\", \"\"]\n",
    "    \n",
    "    condition = is_a_mark or text.isnumeric()\n",
    "    \n",
    "    answer = True if condition else False\n",
    "    \n",
    "    return answer"
   ]
  },
  {
   "cell_type": "code",
   "execution_count": 4,
   "metadata": {},
   "outputs": [
    {
     "data": {
      "text/plain": [
       "True"
      ]
     },
     "execution_count": 4,
     "metadata": {},
     "output_type": "execute_result"
    }
   ],
   "source": [
    "omit_text(\"1\")"
   ]
  },
  {
   "cell_type": "code",
   "execution_count": 5,
   "metadata": {},
   "outputs": [],
   "source": [
    "def clean_text(text):\n",
    "    \n",
    "    text = text.strip()\n",
    "    \n",
    "    text = text.lower()\n",
    "    \n",
    "    #Temporarily replace '\n",
    "    text = text.replace(\"'\", \"yyyzzz\")\n",
    "    \n",
    "    text = re.sub(r'[^\\w\\s]','',text)\n",
    "    \n",
    "    #put \"'\" back\n",
    "    text = text.replace(\"yyyzzz\", \"'\")\n",
    "    \n",
    "    return text"
   ]
  },
  {
   "cell_type": "code",
   "execution_count": 6,
   "metadata": {},
   "outputs": [
    {
     "data": {
      "text/plain": [
       "\"it's\""
      ]
     },
     "execution_count": 6,
     "metadata": {},
     "output_type": "execute_result"
    }
   ],
   "source": [
    "clean_text(\"  it's!...  \")"
   ]
  },
  {
   "cell_type": "code",
   "execution_count": 8,
   "metadata": {},
   "outputs": [
    {
     "data": {
      "text/plain": [
       "[('clop', 'clop'),\n ('clop', 'clop'),\n ('king', 'arthur'),\n ('whoa', 'there'),\n ('clop', 'clop')]"
      ]
     },
     "execution_count": 8,
     "metadata": {},
     "output_type": "execute_result"
    }
   ],
   "source": [
    "cleaned_bigrams = [(clean_text(b[0]),clean_text(b[1])) for b in dirty_bigrams]\n",
    "\n",
    "def keep_bigram(bigram):\n",
    "    keep_b0 = not omit_text(bigram[0])\n",
    "    keep_b1 = not omit_text(bigram[1])\n",
    "    \n",
    "    return keep_b0 and keep_b1\n",
    "\n",
    "bigram_list = [b for b in cleaned_bigrams if keep_bigram(b)]\n",
    "\n",
    "bigram_list[:5]"
   ]
  },
  {
   "cell_type": "code",
   "execution_count": 12,
   "metadata": {},
   "outputs": [
    {
     "data": {
      "text/plain": [
       "['lost', 'sell', 'inside', 'nothing', 'keep']"
      ]
     },
     "execution_count": 12,
     "metadata": {},
     "output_type": "execute_result"
    }
   ],
   "source": [
    "word0 = [w[0] for w in bigram_list]\n",
    "\n",
    "word_list = list(set(word0))\n",
    "\n",
    "word_list[:5]"
   ]
  },
  {
   "cell_type": "code",
   "execution_count": 37,
   "metadata": {},
   "outputs": [],
   "source": [
    "word_dict = {}\n",
    "\n",
    "for word in word_list:\n",
    "    all_words_after = [w[1] for w in bigram_list if w[0] == word]\n",
    "    word_counts = pd.Series(all_words_after).value_counts()\n",
    "    \n",
    "    word_dict[word] = Word(after_words=word_counts.index.tolist(), counts=word_counts.tolist())"
   ]
  },
  {
   "cell_type": "code",
   "execution_count": 38,
   "metadata": {},
   "outputs": [
    {
     "data": {
      "text/plain": [
       "Word(after_words=['of', 'who', 'went', 'in', 'seemed'], counts=[25, 8, 1, 1, 1])"
      ]
     },
     "execution_count": 38,
     "metadata": {},
     "output_type": "execute_result"
    }
   ],
   "source": [
    "word_dict['knights']"
   ]
  },
  {
   "cell_type": "markdown",
   "metadata": {},
   "source": [
    "Now, we need to save the data."
   ]
  },
  {
   "cell_type": "code",
   "execution_count": 39,
   "metadata": {},
   "outputs": [],
   "source": [
    "with open(\"data/monty_python_holy_grail_word_data.json\", \"w\") as file:\n",
    "    json.dump(word_dict, file)"
   ]
  }
 ],
 "metadata": {
  "kernelspec": {
   "display_name": "Python 2",
   "language": "python",
   "name": "python2"
  },
  "language_info": {
   "codemirror_mode": {
    "name": "ipython",
    "version": 2
   },
   "file_extension": ".py",
   "mimetype": "text/x-python",
   "name": "python",
   "nbconvert_exporter": "python",
   "pygments_lexer": "ipython2",
   "version": "2.7.6"
  }
 },
 "nbformat": 4,
 "nbformat_minor": 0
}
